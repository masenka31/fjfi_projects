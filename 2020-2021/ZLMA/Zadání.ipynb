{
  "nbformat": 4,
  "nbformat_minor": 0,
  "metadata": {
    "colab": {
      "name": "01ZLMA_zapoctova_uloha.ipynb",
      "private_outputs": true,
      "provenance": [],
      "collapsed_sections": []
    },
    "kernelspec": {
      "name": "ir",
      "display_name": "R"
    },
    "language_info": {
      "name": "R"
    }
  },
  "cells": [
    {
      "cell_type": "markdown",
      "metadata": {
        "id": "iNr4YK9LQTPT"
      },
      "source": [
        "# Zadání zápočtové úlohy z předmětu 01ZLMA/01ZLIM v 2020/2021"
      ]
    },
    {
      "cell_type": "markdown",
      "metadata": {
        "id": "tejiSy2K8D5-"
      },
      "source": [
        "Zápočtovou úlohu vypracujte na datech pacientů, u kterých byla indikována srdeční choroba. \n",
        "\n",
        "Data jsou k nalezení: https://archive.ics.uci.edu/ml/datasets/Heart+Disease\n",
        "\n",
        "Různé analýzy a grafická vizualizace tohoto datasetu lze nalézt také na: https://www.kaggle.com/ronitf/heart-disease-uci (pozor jiné  popisy, nahrazeni NaN, ...)\n",
        "\n",
        "Pro zápočtovou úlohu byla však data lehce modifikována a rozdělena."
      ]
    },
    {
      "cell_type": "markdown",
      "metadata": {
        "id": "UPN8huFa9TXs"
      },
      "source": [
        "## 00 - Popis dat\n",
        "\n",
        "\n",
        "    age: \n",
        "    sex:\n",
        "        0: Female\n",
        "        1: Male\n",
        "    chest_pain_type: Chest Pain Type\n",
        "        0: asymptomatic\n",
        "        1: atypical angina\n",
        "        2: non-anginal pain\n",
        "        3: typical angina\n",
        "    blood_pressure: Resting Blood Pressure: Person's resting blood pressure\n",
        "    cholesterol: Serum Cholesterol in mg/dl\n",
        "    blood_sugar: Fasting Blood Sugar\n",
        "        0:Less Than 120mg/ml\n",
        "        1: Greater Than 120mg/ml\n",
        "    rest_ecg: Resting Electrocardiographic Measurement\n",
        "        0: showing probable or definite left ventricular hypertrophy by Estes' criteria\n",
        "        1: normal\n",
        "        2: having ST-T wave abnormality (T wave inversions and/or ST elevation or depression of > 0.05 mV)\n",
        "    heart_rate: Max Heart Rate Achieved: Maximum Heart Rate Achieved\n",
        "    ex_angina: Exercise Induced Angina\n",
        "        1: Yes\n",
        "        0: No\n",
        "    st_depression: ST depression induced by exercise relative to rest\n",
        "    st_slope: Slope of the peak exercise ST segment\n",
        "        0: downsloping\n",
        "        1: flat\n",
        "        2: upsloping\n",
        "    thal:  blood disorder called 'Thalassemia':\n",
        "        1: fixed defect\n",
        "        2: normal\n",
        "        3: reversable Defect\n",
        "    num_vessels: Number of Major Vessels: Number of major vessels colored by fluoroscopy\n"
      ]
    },
    {
      "cell_type": "code",
      "metadata": {
        "id": "XNBY5AFAzzgH"
      },
      "source": [
        ""
      ],
      "execution_count": null,
      "outputs": []
    },
    {
      "cell_type": "markdown",
      "metadata": {
        "id": "qt-Sj0KJbzRx"
      },
      "source": [
        "### Načtení a úprava dat\n",
        "\n"
      ]
    },
    {
      "cell_type": "code",
      "metadata": {
        "id": "iejVKcFcTwIE"
      },
      "source": [
        "library(tidyverse)\n",
        "library(knitr)"
      ],
      "execution_count": null,
      "outputs": []
    },
    {
      "cell_type": "code",
      "metadata": {
        "id": "VxBIs-aDYMxd"
      },
      "source": [
        "data_train <- \"https://raw.githubusercontent.com/francji1/01ZLMA/main/data/heart_train.csv\"\n",
        "data_train  <- read.table(data_train, header = T, sep = \",\")\n",
        "head(data_train)"
      ],
      "execution_count": null,
      "outputs": []
    },
    {
      "cell_type": "code",
      "metadata": {
        "id": "9A3cpB71DbeX"
      },
      "source": [
        "data_test <- \"https://raw.githubusercontent.com/francji1/01ZLMA/main/data/heart_test.csv\"\n",
        "data_test  <- read.table(data_test, header = T, sep = \",\")\n",
        "head(data_test)"
      ],
      "execution_count": null,
      "outputs": []
    },
    {
      "cell_type": "markdown",
      "metadata": {
        "id": "OLW3sGXWvqYw"
      },
      "source": [
        "### Vytvoření agregované tabulky "
      ]
    },
    {
      "cell_type": "code",
      "metadata": {
        "id": "BOT0TersLvBW"
      },
      "source": [
        "# for my purpose\n",
        "# table(data_train$blood_pressure)\n",
        "# hist(data_train$blood_pressure,breaks=20)\n",
        "# table(data_train$age)\n",
        "# hist(data_train$age,breaks=20)\n",
        "# table(data_train$chest_pain_type)\n"
      ],
      "execution_count": null,
      "outputs": []
    },
    {
      "cell_type": "code",
      "metadata": {
        "id": "0-jGCOkptI6E"
      },
      "source": [
        "data_table <- data_train %>%\n",
        "   dplyr::select(age, sex, blood_pressure,disease) %>%\n",
        "   mutate(age             = cut(age, breaks=c(-Inf, 44,60, Inf),labels=c(\"30-45\",\"45-60\",\"60-75\")),\n",
        "          blood_pressure  = cut(blood_pressure, breaks=c(-Inf, 120,130,140,Inf),labels=c(\"100-120\",\"121-130\",\"131-140\",\"140-180\"))) %>%\n",
        "  group_by(age,blood_pressure) %>%\n",
        "  summarise(n = n(),\n",
        "         disease_yes = sum(disease),\n",
        "         disease_no = n - sum(disease)\n",
        "        )        \n",
        "   data_table"
      ],
      "execution_count": null,
      "outputs": []
    },
    {
      "cell_type": "markdown",
      "metadata": {
        "id": "EgmJdEeF3nVh"
      },
      "source": [
        "## 01 - Grafické zobrazení dat (potřeba získat 1 / maximálně možno získat 2,  časový odhad 15 min.)\n",
        "\n",
        "Použijte `data_train`. Nejen pro lepší práci a názornější grafy můžete kódové označení ve faktorových proměnných nahradit popisy ze zadání."
      ]
    },
    {
      "cell_type": "markdown",
      "metadata": {
        "id": "vMCUrJCh3-Lr"
      },
      "source": [
        "* Zobrazte diskrétní proměnné pomocí histogramu, kde barevně rozlišíte mezi pacienty s vadou a bez vady srdce (target 0/1)\n",
        "* Jednotlivé spojité proměnné zobrazte pomocí dvou boxplotu dle odezvy (s nemoci/bez nemoci) a pomoci scatterplotů mezi sebou, kde barevně oddělíte jednotlivé body opět podle odezvy (s nemocí srdce / bez nemoci srdce) "
      ]
    },
    {
      "cell_type": "markdown",
      "metadata": {
        "id": "VZVWRKez4CEl"
      },
      "source": [
        "## 02 - Logistická regrese agregovaná tabulková data (3 / 5, časový odhad 30 min.)\n",
        "\n",
        "použijte `data_table`\n",
        "\n",
        "\n",
        "\n"
      ]
    },
    {
      "cell_type": "markdown",
      "metadata": {
        "id": "zYO0I9eJ614V"
      },
      "source": [
        "* Vytvořte odezvu pro logistický model binomického rozdělení a sestrojte nulový model. Jaká je ve zkoumané populaci  průměrná šance na srdeční chorobu a jaká je pravděpodobnost srdeční choroby? \n",
        "\n",
        "* Sestrojte model, kde závisí výskyt srdeční choroby pouze na tlaku. Je vliv tlaku statisticky významná proměnná na hladině významnosti 0.05? Pokud ano, zjistěte, kolikrát mají pacienti se srdečním tlakem mezi 140 a 180 vetší šanci na srdeční chorobu než pacienti s tlakem mezi 100 a 120.\n",
        "\n",
        "* Sestrojte model, kde závisí výskyt srdeční choroby pouze na věku. Je věku  statisticky významná proměnná na hladině významnosti 0.01? Pokud ano, zjistěte, kolikrát mají pacienti ve věku mezi 60-75 a vetší šanci na srdeční chorobu než pacienti ve věku 45-60.\n",
        "\n",
        "* Předpokládejte, že šance na srdeční chorobu roste exponenciálně s hodnotou tlaku a exponenciálně s věkem. Vytvořte příslušné numerické spojité prediktory, jakožto středy intervalů tlaku a věku. Sestrojte model, kde šance na srdeční chorobu bude záležet na numerických hodnotách tlaku a věku (bez interakce). Jaký je poměr šancí na srdeční chorobu mezi pacienty lišícími se o 10 let a majícími stejný tlak? \n",
        "\n",
        "* Otestujte předešlý model proti saturovanému modelu. Má tento test opodstatnění? Okomentujte jeho výsledek. "
      ]
    },
    {
      "cell_type": "markdown",
      "metadata": {
        "id": "-__6HiYk65CB"
      },
      "source": [
        "## 03 - Poissonovská regrese na agregovaná tabulková data (4 / 7, časový odhad 30 min.)\n",
        "\n",
        "použijte  `data_table`\n"
      ]
    },
    {
      "cell_type": "markdown",
      "metadata": {
        "id": "ZC__j9ZiY-aG"
      },
      "source": [
        "* Upravte tabulku do potřebného formátu a sestrojte čistě aditivní loglineární model pro četnosti pozorování ve skupinách, který předpokládá vzájemnou\n",
        "nezávislost mezi všemi třemi skupinovými prediktory (věk, tlak, oneocnění).\n",
        "\n",
        "* Na základě předchozího modelu, jaký je odhad šance na srdeční onemocnění mezi všemi vybranými pacienty a jaký je odhad pravděpodobnosti srdeční choroby?\n",
        "\n",
        "* Sestavte model, který obsahuje všechny možné dvojné interakce mezi klasifikačními veličinami a porovnejte tento model s předchozím modelem bez interakcí. Je tento model statisticky významně lepší?\n",
        "\n",
        "* Na základě předchozího modelu, jaký je odhad poměru šancí na srdeční onemocnění pacientů ve věku mezi 60-75 oproti pacientům ve věku 45-60?\n",
        "\n",
        "* Sestavte saturovaný model a vypište odhady jeho parametrů parametry. Je tento model statisticky významně lepší než předchozí s dvojtými interakcemi? \n",
        "\n",
        "* Na základě saturovaného modelu, je ve všech věkových skupinách stejná souvislost mezi tlakem a onemocněním srdce?\n",
        "\n",
        "* Ve které věkové kategorii je největší rozdíl v onemocnění srdce mezi\n",
        "lidmi s tlakem menším než 120 a s lidmi s tlakem větším než 140?\n"
      ]
    },
    {
      "cell_type": "markdown",
      "metadata": {
        "id": "FvKc5AMX7IRJ"
      },
      "source": [
        "## 04 - Logistická regrese - statistika (4/8, časový odhad 45 min.)\n",
        "\n",
        "Nyní již používejte `data_train`"
      ]
    },
    {
      "cell_type": "markdown",
      "metadata": {
        "id": "oJjsyaKi7ahB"
      },
      "source": [
        "* Vypište kontingenční tabulku pro proměnné pohlaví (`sex`) a onemocnění (`disease`). Ručně z tabulky spočtěte empirický poměr šancí na onemocnění srdce (muž vs. žena) a pravděpodobnost onemocnění pro ženu a muže. Výsledek porovnejte s výsledky z logistické regrese, kde jediným prediktorem bude právě proměnná `sex` a odezvou proměnná `disease`. Pro poměr šancí uveďte i 95% konfidenční interval a okometujte, zdali mají ženy signifikantně menší šanci na onemocnění srdce.\n",
        "\n",
        "* Vypište kontingenční tabulku pro proměnné typ bolesti (`chest_pain_type`) a onemocnění (`disease`). Ručně z tabulky spočtěte empirický poměr šancí na onemocnění srdce (type 0: asymptomatic, proti ostatním) a pravděpodobnosti onemocnění pro jednotlivé typy. Výsledek porovnejte s výsledky z logistické regrese, kde jediným prediktorem bude právě proměnná `chest_pain_type` a odezvou proměnná `disease`. Pro poměr šancí uveďte i 95% konfidenční interval a okometujte, zdali mají pacienti s asymptomatickou bolestí signifikantně menší šanci na onemocnění srdce oproti ostatním typům bolestí.\n",
        "\n",
        "* Sestavte model, kde použijete všechny dostupné proměnné (jak faktorové tak numerické). Pomocí deviančních testů model postupně redukujte. Výsledný model porovnejte s modelem, který byste obdrželi při použití automatického výběru s funkcí `step()`.\n",
        "\n",
        "* Pro vybraný model spočtěte šanci na srdeční onemocnění pro muže oproti ženám, včetně 95% konfidenčních intervalů. Stejně tak pro asymptomaticky typ bolesti na hrudi proti ostatním. Jak se výsledek změnil oproti jednoduchým modelům a jak byste tuto změnu vysvětlili?\n",
        "\n",
        "* (2b) Použijte váš model a spočtěte odhad pravděpodobnosti srdeční choroby pro testovací data vykreslete pro proměnou `blood_pressure` predikční konfidenční intervaly. \n",
        "Nápověda krom cvičení, také třeba zde: https://fromthebottomoftheheap.net/2017/05/01/glm-prediction-intervals-i/\n",
        "\n",
        "* (2b) Na základě trénovacích dat zvolte vhodný treshold pro určení má nemoc / nemá nemoc a na testovacích datech spočtěte Accuracy a vykreslete ROC křivku.\n",
        "\n",
        "\n",
        "\n"
      ]
    },
    {
      "cell_type": "markdown",
      "metadata": {
        "id": "36nAaDOb7lkB"
      },
      "source": [
        "## 05 - Logistická regrese -  strojové učení (1(za snahu a rozpracování)/3, časový odhad 60 min.)"
      ]
    },
    {
      "cell_type": "markdown",
      "metadata": {
        "id": "EkAcASto71Wb"
      },
      "source": [
        "* Sestavte workflow (pipeline) na trenovacích datech pro logistickou regresi s použitím regularizace (elestic-net), která bude obsahovat \n",
        " *   Přípravu proměnných, transformaci, one-hot encoding, normalizaci, ... (Možno použít recipe z tidy models)\n",
        " *   Hledání \"optimálního\" nastavení hyperparametru v regularizaci. \n",
        " *   k-fold cross validaci\n",
        "\n",
        "* Pomocí předchozí pipline/workflow vyberte hodnotu hyperparametru. Pokud chceme uvedený algoritmus použít k detekci pacientů s nemocí srdce, jakou statistiku bychom měli sledovat abychom omylem nepropustili nemocného domů jako zdravého? \n",
        "\n",
        "* Spočtěte a porovnejte statistiky používané při binární klasifikaci na trénovacích a testovacích datech. Vykreslete ROC křivku a spočtěte plochu pod ní jak pro testovací tak trénovací data. Co můžeme říci o kvalitě modelu z této sekce 05 a modelu z předchozí 04?\n",
        "\n",
        "\n"
      ]
    },
    {
      "cell_type": "markdown",
      "metadata": {
        "id": "XyiDAcOU92jA"
      },
      "source": [
        "## Poznámky k odevzdání a vypracování\n",
        "\n",
        "* Úkol vypracujte samostatně. Pokud se budete s někým radit, nezapomeňte u dané odpovědi uvést zdroj vašich informací. \n",
        "\n",
        "* Úkol můžete odevzdávat jako spustitelný jupyter notebook na google colab (stačí odevzdat link), nebo pdf (export z R markdownu, nebo Jupyter notebooku), pomocí MS Teams. \n",
        "\n",
        "* Deadline pro odevzdání je stanoven na úterý 22.6.2021.\n",
        "\n",
        "* Není možno odevzdání opakovat. Odevzdaný úkol zkontroluji a buď zápočet získáte, nebo ne.\n",
        "\n",
        "* Pokud se rozhodnete na někkteré otázky neodpovídat, počítejte s tím, že v dané sekci ztrácíte body a odpovědi z dalších otázek nemusí stačit na minimum za danou sekci.\n",
        "\n",
        "* V případě otázek se ptejte veřejně v general kanále v MS Teams. Ostatní mohou mít podobné problémy a tudíž pokud je někde například nejasné zadání, tak ať mají všichni stejnou příležitost.\n",
        "\n",
        "* Možno psát a odevzdat v Python"
      ]
    },
    {
      "cell_type": "code",
      "metadata": {
        "id": "tLdxTPNZXEOF"
      },
      "source": [
        ""
      ],
      "execution_count": null,
      "outputs": []
    }
  ]
}